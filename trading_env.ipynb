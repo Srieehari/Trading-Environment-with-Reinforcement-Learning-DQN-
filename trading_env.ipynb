{
 "cells": [
  {
   "cell_type": "code",
   "execution_count": 1,
   "metadata": {},
   "outputs": [],
   "source": [
    "import gym\n",
    "from gym import spaces\n",
    "import numpy as np\n",
    "import pandas as pd\n",
    "from stable_baselines3 import DQN  # Or A2C, PPO, etc.\n",
    "from stable_baselines3.common.vec_env import DummyVecEnv"
   ]
  },
  {
   "cell_type": "code",
   "execution_count": null,
   "metadata": {},
   "outputs": [],
   "source": [
    "class TradingEnv(gym.Env):\n",
    "    def __init__(self, data):\n",
    "        super(TradingEnv, self).__init__()\n",
    "        self.data = data #Sets the stock data for the environment\n",
    "        self.current_step = 0 # start at the first step\n",
    "        self.start_balance = 1000 # create an indial baalance for the trading\n",
    "        self.balance = self.start_balance #create the current account balance storage\n",
    "        self.shares_held = 0 #number of shares held (currently 0)\n",
    "\n",
    "        # 3 actions 0 = Hold, 1 = Buy, 2 = Sell\n",
    "        self.action_space = spaces.Discrete(3)\n",
    "\n",
    "        # shape depends on the number of columns in data\n",
    "        self.observation_space = spaces.Box(\n",
    "            low=0, high=1, shape=(data.shape[1] + 2,), dtype=np.float32\n",
    "        )\n",
    "\n",
    "    def reset(self):\n",
    "        self.current_step = 0\n",
    "        self.balance = self.start_balance\n",
    "        self.shares_held = 0\n",
    "        return self._next_observation()\n",
    "\n",
    "        # Define the observation space, including stock data and account info\n",
    "        # Shape is based on the number of data columns + balance and shares held\n",
    "    def _next_observation(self):\n",
    "        stock_data = self.data.iloc[self.current_step].values\n",
    "        obs = np.append(stock_data, [self.balance, self.shares_held])\n",
    "        return obs.astype(np.float32)\n",
    "\n",
    "    def step(self, action):\n",
    "        current_price = self.data.iloc[self.current_step][\"Close\"]\n",
    "        reward = 0\n",
    "#Adds up the total value of the price\n",
    "        if action == 1:  # Buy\n",
    "            if self.balance >= current_price:\n",
    "                self.shares_held += 1\n",
    "                self.balance -= current_price\n",
    "        elif action == 2:  # Sell\n",
    "            if self.shares_held > 0:\n",
    "                self.shares_held -= 1\n",
    "                self.balance += current_price\n",
    "#Adds up the total balance\n",
    "        portfolio_value = self.balance + self.shares_held * current_price\n",
    "        reward = portfolio_value - self.start_balance\n",
    "        self.start_balance = portfolio_value\n",
    "\n",
    "        self.current_step += 1\n",
    "        done = self.current_step >= len(self.data) - 1\n",
    "#reqrd if profit is made\n",
    "        return self._next_observation(), reward, done, {}\n",
    "\n",
    "    def render(self, mode=\"human\"):\n",
    "        pass "
   ]
  },
  {
   "cell_type": "code",
   "execution_count": 3,
   "metadata": {},
   "outputs": [],
   "source": [
    "data = pd.DataFrame({\n",
    "    'Open': np.random.rand(100),\n",
    "    'High': np.random.rand(100),\n",
    "    'Low': np.random.rand(100),\n",
    "    'Close': np.random.rand(100),\n",
    "    'Volume': np.random.randint(1, 1000, 100)\n",
    "})"
   ]
  },
  {
   "cell_type": "code",
   "execution_count": 4,
   "metadata": {},
   "outputs": [
    {
     "name": "stderr",
     "output_type": "stream",
     "text": [
      "c:\\Users\\sriee\\OneDrive\\AppData\\Desktop\\Trading Code\\trading_env\\Lib\\site-packages\\stable_baselines3\\common\\vec_env\\patch_gym.py:49: UserWarning: You provided an OpenAI Gym environment. We strongly recommend transitioning to Gymnasium environments. Stable-Baselines3 is automatically wrapping your environments in a compatibility layer, which could potentially cause issues.\n",
      "  warnings.warn(\n"
     ]
    }
   ],
   "source": [
    "env = DummyVecEnv([lambda: TradingEnv(data)])"
   ]
  },
  {
   "cell_type": "code",
   "execution_count": 5,
   "metadata": {},
   "outputs": [],
   "source": [
    "import stable_baselines3"
   ]
  },
  {
   "cell_type": "code",
   "execution_count": null,
   "metadata": {},
   "outputs": [],
   "source": []
  },
  {
   "cell_type": "code",
   "execution_count": 6,
   "metadata": {},
   "outputs": [
    {
     "name": "stdout",
     "output_type": "stream",
     "text": [
      "Using cpu device\n",
      "----------------------------------\n",
      "| rollout/            |          |\n",
      "|    exploration_rate | 0.248    |\n",
      "| time/               |          |\n",
      "|    episodes         | 4        |\n",
      "|    fps              | 2857     |\n",
      "|    time_elapsed     | 0        |\n",
      "|    total_timesteps  | 396      |\n",
      "----------------------------------\n",
      "----------------------------------\n",
      "| rollout/            |          |\n",
      "|    exploration_rate | 0.05     |\n",
      "| time/               |          |\n",
      "|    episodes         | 8        |\n",
      "|    fps              | 3419     |\n",
      "|    time_elapsed     | 0        |\n",
      "|    total_timesteps  | 792      |\n",
      "----------------------------------\n",
      "----------------------------------\n",
      "| rollout/            |          |\n",
      "|    exploration_rate | 0.05     |\n",
      "| time/               |          |\n",
      "|    episodes         | 12       |\n",
      "|    fps              | 3564     |\n",
      "|    time_elapsed     | 0        |\n",
      "|    total_timesteps  | 1188     |\n",
      "----------------------------------\n",
      "----------------------------------\n",
      "| rollout/            |          |\n",
      "|    exploration_rate | 0.05     |\n",
      "| time/               |          |\n",
      "|    episodes         | 16       |\n",
      "|    fps              | 3412     |\n",
      "|    time_elapsed     | 0        |\n",
      "|    total_timesteps  | 1584     |\n",
      "----------------------------------\n",
      "----------------------------------\n",
      "| rollout/            |          |\n",
      "|    exploration_rate | 0.05     |\n",
      "| time/               |          |\n",
      "|    episodes         | 20       |\n",
      "|    fps              | 3318     |\n",
      "|    time_elapsed     | 0        |\n",
      "|    total_timesteps  | 1980     |\n",
      "----------------------------------\n",
      "----------------------------------\n",
      "| rollout/            |          |\n",
      "|    exploration_rate | 0.05     |\n",
      "| time/               |          |\n",
      "|    episodes         | 24       |\n",
      "|    fps              | 3334     |\n",
      "|    time_elapsed     | 0        |\n",
      "|    total_timesteps  | 2376     |\n",
      "----------------------------------\n",
      "----------------------------------\n",
      "| rollout/            |          |\n",
      "|    exploration_rate | 0.05     |\n",
      "| time/               |          |\n",
      "|    episodes         | 28       |\n",
      "|    fps              | 3292     |\n",
      "|    time_elapsed     | 0        |\n",
      "|    total_timesteps  | 2772     |\n",
      "----------------------------------\n",
      "----------------------------------\n",
      "| rollout/            |          |\n",
      "|    exploration_rate | 0.05     |\n",
      "| time/               |          |\n",
      "|    episodes         | 32       |\n",
      "|    fps              | 3402     |\n",
      "|    time_elapsed     | 0        |\n",
      "|    total_timesteps  | 3168     |\n",
      "----------------------------------\n",
      "----------------------------------\n",
      "| rollout/            |          |\n",
      "|    exploration_rate | 0.05     |\n",
      "| time/               |          |\n",
      "|    episodes         | 36       |\n",
      "|    fps              | 3345     |\n",
      "|    time_elapsed     | 1        |\n",
      "|    total_timesteps  | 3564     |\n",
      "----------------------------------\n",
      "----------------------------------\n",
      "| rollout/            |          |\n",
      "|    exploration_rate | 0.05     |\n",
      "| time/               |          |\n",
      "|    episodes         | 40       |\n",
      "|    fps              | 3269     |\n",
      "|    time_elapsed     | 1        |\n",
      "|    total_timesteps  | 3960     |\n",
      "----------------------------------\n",
      "----------------------------------\n",
      "| rollout/            |          |\n",
      "|    exploration_rate | 0.05     |\n",
      "| time/               |          |\n",
      "|    episodes         | 44       |\n",
      "|    fps              | 3325     |\n",
      "|    time_elapsed     | 1        |\n",
      "|    total_timesteps  | 4356     |\n",
      "----------------------------------\n",
      "----------------------------------\n",
      "| rollout/            |          |\n",
      "|    exploration_rate | 0.05     |\n",
      "| time/               |          |\n",
      "|    episodes         | 48       |\n",
      "|    fps              | 3281     |\n",
      "|    time_elapsed     | 1        |\n",
      "|    total_timesteps  | 4752     |\n",
      "----------------------------------\n"
     ]
    }
   ],
   "source": [
    "\n",
    "\n",
    "# Initialize the model\n",
    "model = DQN(\"MlpPolicy\", env, verbose=1)\n",
    "\n",
    "# Train the model\n",
    "model.learn(total_timesteps=5000)\n",
    "\n",
    "# Save the model\n",
    "model.save(\"dqn_trading_model\")\n"
   ]
  },
  {
   "cell_type": "code",
   "execution_count": 7,
   "metadata": {},
   "outputs": [
    {
     "name": "stdout",
     "output_type": "stream",
     "text": [
      "2.0.0\n",
      "c:\\Users\\sriee\\OneDrive\\AppData\\Desktop\\Trading Code\\trading_env\\Lib\\site-packages\\stable_baselines3\\__init__.py\n"
     ]
    }
   ],
   "source": [
    "print(stable_baselines3.__version__)\n",
    "\n",
    "print(stable_baselines3.__file__)"
   ]
  }
 ],
 "metadata": {
  "kernelspec": {
   "display_name": "trading_env",
   "language": "python",
   "name": "python3"
  },
  "language_info": {
   "codemirror_mode": {
    "name": "ipython",
    "version": 3
   },
   "file_extension": ".py",
   "mimetype": "text/x-python",
   "name": "python",
   "nbconvert_exporter": "python",
   "pygments_lexer": "ipython3",
   "version": "3.11.1"
  }
 },
 "nbformat": 4,
 "nbformat_minor": 2
}
